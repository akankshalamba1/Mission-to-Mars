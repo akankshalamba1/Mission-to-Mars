{
 "cells": [
  {
   "cell_type": "code",
   "execution_count": 12,
   "id": "a5bfbae3",
   "metadata": {},
   "outputs": [],
   "source": [
    "from splinter import Browser\n",
    "from bs4 import BeautifulSoup as soup\n",
    "from webdriver_manager.chrome import ChromeDriverManager"
   ]
  },
  {
   "cell_type": "code",
   "execution_count": 13,
   "id": "e074cf43",
   "metadata": {},
   "outputs": [],
   "source": [
    "# Set up Splinter\n",
    "executable_path = {'executable_path': ChromeDriverManager().install()}\n",
    "browser = Browser('chrome', **executable_path, headless=False)"
   ]
  },
  {
   "cell_type": "code",
   "execution_count": 14,
   "id": "525601c0",
   "metadata": {},
   "outputs": [],
   "source": [
    "# Visit the Quotes to Scrape site\n",
    "url = 'http://books.toscrape.com/'\n",
    "browser.visit(url)"
   ]
  },
  {
   "cell_type": "code",
   "execution_count": 33,
   "id": "6d82a044",
   "metadata": {},
   "outputs": [
    {
     "name": "stdout",
     "output_type": "stream",
     "text": [
      "---------------------\n",
      "A Light in the ...\n",
      "---------------------\n",
      "Tipping the Velvet\n",
      "---------------------\n",
      "Soumission\n",
      "---------------------\n",
      "Sharp Objects\n",
      "---------------------\n",
      "Sapiens: A Brief History ...\n",
      "---------------------\n",
      "The Requiem Red\n",
      "---------------------\n",
      "The Dirty Little Secrets ...\n",
      "---------------------\n",
      "The Coming Woman: A ...\n",
      "---------------------\n",
      "The Boys in the ...\n",
      "---------------------\n",
      "The Black Maria\n",
      "---------------------\n",
      "Starving Hearts (Triangular Trade ...\n",
      "---------------------\n",
      "Shakespeare's Sonnets\n",
      "---------------------\n",
      "Set Me Free\n",
      "---------------------\n",
      "Scott Pilgrim's Precious Little ...\n",
      "---------------------\n",
      "Rip it Up and ...\n",
      "---------------------\n",
      "Our Band Could Be ...\n",
      "---------------------\n",
      "Olio\n",
      "---------------------\n",
      "Mesaerion: The Best Science ...\n",
      "---------------------\n",
      "Libertarianism for Beginners\n",
      "---------------------\n",
      "It's Only the Himalayas\n"
     ]
    }
   ],
   "source": [
    "html = browser.html\n",
    "quote_soup = soup(html, 'html.parser')\n",
    "quotes = quote_soup.find_all('h3')\n",
    "\n",
    "for quote in quotes:\n",
    "    print('---------------------')\n",
    "    print(quote.text)"
   ]
  },
  {
   "cell_type": "code",
   "execution_count": null,
   "id": "bc4ced91",
   "metadata": {},
   "outputs": [],
   "source": []
  }
 ],
 "metadata": {
  "kernelspec": {
   "display_name": "PythonData",
   "language": "python",
   "name": "pythondata"
  },
  "language_info": {
   "codemirror_mode": {
    "name": "ipython",
    "version": 3
   },
   "file_extension": ".py",
   "mimetype": "text/x-python",
   "name": "python",
   "nbconvert_exporter": "python",
   "pygments_lexer": "ipython3",
   "version": "3.9.12"
  }
 },
 "nbformat": 4,
 "nbformat_minor": 5
}
